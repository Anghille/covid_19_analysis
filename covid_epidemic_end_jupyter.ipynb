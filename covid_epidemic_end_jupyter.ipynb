{
 "metadata": {
  "language_info": {
   "codemirror_mode": {
    "name": "ipython",
    "version": 3
   },
   "file_extension": ".py",
   "mimetype": "text/x-python",
   "name": "python",
   "nbconvert_exporter": "python",
   "pygments_lexer": "ipython3",
   "version": "3.7.6-final"
  },
  "orig_nbformat": 2,
  "kernelspec": {
   "name": "Python 3.7.6 64-bit ('Udemy': conda)",
   "display_name": "Python 3.7.6 64-bit ('Udemy': conda)",
   "metadata": {
    "interpreter": {
     "hash": "71c13149b905119b7f49bf0a1f58890ed85242a761973d7e6634524711e0f8e9"
    }
   }
  }
 },
 "nbformat": 4,
 "nbformat_minor": 2,
 "cells": [
  {
   "source": [
    "# Time Series Forecasting of Covid-19 Transmission Using LSTM Networks"
   ],
   "cell_type": "markdown",
   "metadata": {}
  },
  {
   "source": [
    "## Introduction  \n",
    "\n",
    "The Coronavirus, also known as Covid-19 or SARS-Cov-2, is an infectious disease caused by a virus belonging to the coronavirus family. First originated in the Huabei Province un China in december 2019, the Coronavirus spread around the world within a few weeks with most of Europe, North America, Middle-East and Asia contaminated by March 11th. "
   ],
   "cell_type": "markdown",
   "metadata": {}
  },
  {
   "source": [
    "## Datasets  \n",
    "\n",
    "I used the data from Novel Corona Virus 2019 Datasets (https://www.kaggle.com/sudalairajkumar/novel-corona-virus-2019-dataset). Those datasets are an aggregation of data coming from multiple sources (government, google own data, medical report...).  <br><br>\n",
    "It contains mutliples datasets: \n",
    "* covid_19_data\n",
    "* time_series_covid_19_confirmed\n",
    "* time_series_covid_19_deaths\n",
    "* time_series_covid_19_recovered\n",
    "* Other that wasn't put in use here.."
   ],
   "cell_type": "markdown",
   "metadata": {}
  },
  {
   "source": [
    "## Importing modules"
   ],
   "cell_type": "markdown",
   "metadata": {}
  },
  {
   "cell_type": "code",
   "execution_count": null,
   "metadata": {},
   "outputs": [],
   "source": [
    "import numpy as np\n",
    "import pandas as pd\n",
    "import matplotlib.pyplot as plt\n",
    "import seaborn as sns\n",
    "\n",
    "import plotly as py\n",
    "import plotly.express as px\n",
    "import plotly.graph_objects as go\n",
    "import plotly.graph_objs as go\n",
    "from plotly.subplots import make_subplots\n",
    "from plotly.offline import download_plotlyjs, init_notebook_mode, plot, iplot\n",
    "\n",
    "init_notebook_mode(connected=True)"
   ]
  },
  {
   "cell_type": "code",
   "execution_count": null,
   "metadata": {},
   "outputs": [],
   "source": []
  },
  {
   "source": [
    "## Coronavirus choropleth maps  \n",
    "\n",
    "A choropleth map is a type of thematic map where areas or regions are shaded in proportion to a given data variable. The data that I used to create the following visualizations is the Novel Corona Virus 2019 dataset from Kaggle. <br><br><br>\n",
    "\n",
    "*Static choropleth maps* are most useful when you want to compare a desired variable by region. For example, if you wanted to compare the crime rate of each state in the US at a given moment, you could visualize it with a static choropleth.<br><br>\n",
    "*An animated or dynamic choropleth map* is similar to a static choropleth map, except that you can compare a variable by region,over time. This adds a third dimension of information and is what makes these visualizations so interesting and powerful."
   ],
   "cell_type": "markdown",
   "metadata": {}
  },
  {
   "source": [
    "### Importing data"
   ],
   "cell_type": "markdown",
   "metadata": {}
  },
  {
   "source": [
    "### Renaming Columns"
   ],
   "cell_type": "markdown",
   "metadata": {}
  },
  {
   "cell_type": "code",
   "execution_count": null,
   "metadata": {},
   "outputs": [],
   "source": [
    "covid_data.rename(columns={\"Country/Region\":\"Country\", \"ObservationDate\":\"Date\"}, inplace=True)"
   ]
  },
  {
   "source": [
    "### Modifying DataFrame"
   ],
   "cell_type": "markdown",
   "metadata": {}
  },
  {
   "cell_type": "code",
   "execution_count": null,
   "metadata": {},
   "outputs": [],
   "source": [
    "covid_data_countries = covid_data.groupby(['Country','Date']).sum().reset_index().sort_values('Date', ascending=False)"
   ]
  },
  {
   "source": [
    "### Chorepleth Graph"
   ],
   "cell_type": "markdown",
   "metadata": {}
  },
  {
   "cell_type": "code",
   "execution_count": null,
   "metadata": {},
   "outputs": [],
   "source": [
    "figure = go.Figure(data=go.Choropleth(\n",
    "    locations=covid_data_countries['Country'],\n",
    "    locationmode='country names',\n",
    "    z=covid_data_countries['Confirmed'],\n",
    "    colorscale='Reds',\n",
    "    marker_line_color='black',\n",
    "    marker_line_width=0.5\n",
    "))\n",
    "\n",
    "figure.update_layout(\n",
    "    title_text='Confirmed Cases of March 28, 2020',\n",
    "    title_x=0.5,\n",
    "    geo=dict(\n",
    "        showframe=False,\n",
    "        showcoastlines=False,\n",
    "        projection_type=\"equirectangular\"\n",
    "    )\n",
    ")"
   ]
  },
  {
   "source": [
    "## Evolution of cases and recovered cases graphs for each country"
   ],
   "cell_type": "markdown",
   "metadata": {}
  },
  {
   "source": [
    "covid_data = pd.read_csv(\"../covid/Data/covid_19_data.csv\")\n",
    "covid_data.head()"
   ],
   "cell_type": "code",
   "metadata": {},
   "execution_count": null,
   "outputs": []
  },
  {
   "source": [
    "### Importing data"
   ],
   "cell_type": "markdown",
   "metadata": {}
  },
  {
   "cell_type": "code",
   "execution_count": null,
   "metadata": {},
   "outputs": [],
   "source": [
    "covid_data = pd.read_csv(\"../covid/Data/covid_19_data.csv\")\n",
    "# covid_line = pd.read_csv(\"../covid/Data/COVID19_line_list_data.csv\", usecols=list(range(1, 21))) # Maybe in use later\n",
    "# covid_open = pd.read_csv(\"../covid/Data/COVID19_open_line_list.csv\", usecols=list(range(1, 33))) # Maybe in use later\n",
    "covid_recovered = pd.read_csv(\"../covid/Data/time_series_covid_19_recovered.csv\")\n",
    "covid_deaths = pd.read_csv(\"../covid/Data/time_series_covid_19_deaths.csv\")\n",
    "covid_confirmed = pd.read_csv(\"../covid/Data/time_series_covid_19_confirmed.csv\")"
   ]
  },
  {
   "source": [
    "### Preparing Data  \n",
    "\n",
    "Setting the data as timeseries (longtable)  \n",
    "Setting dates as index  \n",
    "Renaming columns  \n",
    "Summing states into all country"
   ],
   "cell_type": "markdown",
   "metadata": {}
  },
  {
   "cell_type": "code",
   "execution_count": null,
   "metadata": {},
   "outputs": [],
   "source": [
    "def cleaning_data(dataframe):\n",
    "    dataframe.rename(columns={\"Province/State\":\"State\",\"Country/Region\":\"Country\"}, inplace=True)\n",
    "    dataframe = dataframe.groupby(\"Country\").sum()\n",
    "    dataframe = dataframe.iloc[:,2:].T.reset_index()\n",
    "    dataframe = dataframe.set_index(pd.to_datetime(dataframe[\"index\"])).drop(columns=\"index\")\n",
    "\n",
    "    return dataframe"
   ]
  },
  {
   "cell_type": "code",
   "execution_count": null,
   "metadata": {},
   "outputs": [],
   "source": [
    "covid_recovered = cleaning_data(covid_recovered)\n",
    "covid_deaths = cleaning_data(covid_deaths)\n",
    "covid_confirmed = cleaning_data(covid_confirmed)"
   ]
  },
  {
   "source": [
    "### Ploting Confirmed-Recovery Data for each country  \n",
    "\n",
    "With this function, we can specify specific countries using the `pays` parameter. An empty `list` will show all the countries of the dataset. Specifying english name (i.e. France, Algeria, Germany, etc. ) will show only those countries. "
   ],
   "cell_type": "markdown",
   "metadata": {}
  },
  {
   "cell_type": "code",
   "execution_count": null,
   "metadata": {},
   "outputs": [],
   "source": [
    "def lineplot_timeseries(df,df2, title=\"Evolution of COVID-19 confirmed and recovered cases\", legend=\"Type of Cases\", pays=[], width_coef=1, height_coef=1):\n",
    "    if not pays:\n",
    "        pays = df.columns\n",
    "    else: \n",
    "        pays = pays\n",
    "    \n",
    "    subplot_rows = int(len(pays)//4) \n",
    "    if subplot_rows <= 1:\n",
    "        if len(pays) <= 4:\n",
    "            subplot_rows = 1\n",
    "        else: \n",
    "            subplot_rows = 2\n",
    "    if len(pays) < 2:\n",
    "        subplot_cols = 1\n",
    "    elif len(pays) < 3:\n",
    "        subplot_cols = 2\n",
    "    elif len(pays) < 4:\n",
    "        subplot_cols = 3\n",
    "    else: \n",
    "        subplot_cols = 4\n",
    "    \n",
    "    \n",
    "    fig = make_subplots(rows=subplot_rows, cols=subplot_cols, subplot_titles = pays, shared_xaxes=True)\n",
    "\n",
    "    col = 1\n",
    "    row = 1\n",
    "    show_legend_switch = 0\n",
    "    for column in pays:\n",
    "        if col <= subplot_cols:\n",
    "            if show_legend_switch == 0:\n",
    "                fig.append_trace(go.Scatter(\n",
    "                    x = df[column].index,\n",
    "                    y = df[column],\n",
    "                    name=\"Confirmed\",\n",
    "                    mode=\"lines\",\n",
    "                    line=go.scatter.Line(color=\"red\"),\n",
    "                    legendgroup='group1'), row=row, col=col)\n",
    "                fig.append_trace(go.Scatter(\n",
    "                    x = df2[column].index,\n",
    "                    y = df2[column],\n",
    "                    name=\"Recovered\",\n",
    "                    mode=\"lines\",\n",
    "                    line=go.scatter.Line(color=\"blue\"),\n",
    "                    legendgroup='group2'), row=row, col=col)\n",
    "                fig.update_xaxes(\n",
    "                    row=row, col=col,\n",
    "                    showline=True,\n",
    "                    showgrid=False,\n",
    "                    automargin=True,\n",
    "                    showticklabels=True,\n",
    "                    linecolor='rgb(204, 204, 204)',\n",
    "                    linewidth=2,\n",
    "                    ticks='outside',\n",
    "                    tickfont=dict(\n",
    "                        family='Arial',\n",
    "                        size=12,\n",
    "                        color='rgb(82, 82, 82)',)\n",
    "                )\n",
    "                fig.update_yaxes(\n",
    "                    row=row, col=col,\n",
    "                    showline=True,\n",
    "                    showgrid=False,\n",
    "                    automargin=True,\n",
    "                    showticklabels=True,\n",
    "                    linecolor='rgb(204, 204, 204)',\n",
    "                    linewidth=2,\n",
    "                    ticks='outside',\n",
    "                    tickfont=dict(\n",
    "                        family='Arial',\n",
    "                        size=12,\n",
    "                        color='rgb(82, 82, 82)',)\n",
    "                )\n",
    "                col+=1\n",
    "                show_legend_switch = 1\n",
    "            else: \n",
    "                fig.append_trace(go.Scatter(\n",
    "                    x = df[column].index,\n",
    "                    y = df[column],\n",
    "                    name=\"Confirmed\",\n",
    "                    mode=\"lines\",\n",
    "                    line=go.scatter.Line(color=\"red\"),\n",
    "                    legendgroup='group1',\n",
    "                    showlegend=False), row=row, col=col)\n",
    "                fig.append_trace(go.Scatter(\n",
    "                    x = df2[column].index,\n",
    "                    y = df2[column],\n",
    "                    name=\"Recovered\",\n",
    "                    mode=\"lines\",\n",
    "                    line=go.scatter.Line(color=\"blue\"),\n",
    "                    legendgroup='group2',\n",
    "                    showlegend=False), row=row, col=col)\n",
    "                fig.update_xaxes(\n",
    "                    row=row, col=col,\n",
    "                    automargin=True,\n",
    "                    showline=True,\n",
    "                    showgrid=False,\n",
    "                    showticklabels=True,\n",
    "                    linecolor='rgb(204, 204, 204)',\n",
    "                    linewidth=2,\n",
    "                    ticks='outside',\n",
    "                    tickfont=dict(\n",
    "                        family='Arial',\n",
    "                        size=12,\n",
    "                        color='rgb(82, 82, 82)',)\n",
    "                )\n",
    "                fig.update_yaxes(\n",
    "                    row=row, col=col,\n",
    "                    showline=True,\n",
    "                    automargin=True,\n",
    "                    showgrid=False,\n",
    "                    showticklabels=True,\n",
    "                    linecolor='rgb(204, 204, 204)',\n",
    "                    linewidth=2,\n",
    "                    ticks='outside',\n",
    "                    tickfont=dict(\n",
    "                        family='Arial',\n",
    "                        size=12,\n",
    "                        color='rgb(82, 82, 82)',)\n",
    "                )\n",
    "                col+=1\n",
    "            \n",
    "        elif (col > subplot_cols) & (row < subplot_rows):\n",
    "            row+=1\n",
    "            col=1\n",
    "            fig.append_trace(go.Scatter(\n",
    "                x = df[column].index,\n",
    "                y = df[column],\n",
    "                name=\"Confirmed\",\n",
    "                mode=\"lines\",\n",
    "                line=go.scatter.Line(color=\"red\"),\n",
    "                legendgroup='group1',\n",
    "                    showlegend=False), row=row, col=col)\n",
    "            fig.append_trace(go.Scatter(\n",
    "                x = df2[column].index,\n",
    "                y = df2[column],\n",
    "                name=\"Recovered\",\n",
    "                mode=\"lines\",\n",
    "                line=go.scatter.Line(color=\"blue\"),\n",
    "                legendgroup='group2',\n",
    "                    showlegend=False), row=row, col=col)\n",
    "            fig.update_xaxes(\n",
    "                row=row, col=col,\n",
    "                showline=True,\n",
    "                showgrid=False,\n",
    "                automargin=True,\n",
    "                showticklabels=True,\n",
    "                linecolor='rgb(204, 204, 204)',\n",
    "                linewidth=2,\n",
    "                ticks='outside',\n",
    "                tickfont=dict(\n",
    "                    family='Arial',\n",
    "                    size=12,\n",
    "                    color='rgb(82, 82, 82)',)\n",
    "            )\n",
    "            fig.update_yaxes(\n",
    "                row=row, col=col,\n",
    "                showline=True,\n",
    "                showgrid=False,\n",
    "                automargin=True,\n",
    "                showticklabels=True,\n",
    "                linecolor='rgb(204, 204, 204)',\n",
    "                linewidth=2,\n",
    "                ticks='outside',\n",
    "                tickfont=dict(\n",
    "                    family='Arial',\n",
    "                    size=12,\n",
    "                    color='rgb(82, 82, 82)',)\n",
    "            )\n",
    "            col+=1\n",
    "\n",
    "    fig.update_layout(\n",
    "        autosize=False,\n",
    "        margin=dict(\n",
    "            autoexpand=True,\n",
    "            l=100,\n",
    "            r=20,\n",
    "            t=110,\n",
    "        ),\n",
    "        title=title,\n",
    "        legend_title=\"Type of cases\",\n",
    "        plot_bgcolor='white',\n",
    "        height=((3860/34034)*len(pays)**2 + ((100-35*(3860/34034))/5)*len(pays) + (400-((100-35*(3860/34034))/5)-(3860/34034)))*height_coef,\n",
    "        width=(((-785/17017)*len(pays)**2 + (25095/2431)*len(pays) + (16842121/17017)))*width_coef, \n",
    "    )\n",
    "    fig.show()"
   ]
  },
  {
   "cell_type": "code",
   "execution_count": null,
   "metadata": {
    "tags": []
   },
   "outputs": [],
   "source": [
    "lineplot_timeseries(covid_confirmed, covid_recovered, pays=[\"France\"], width_coef=1, height_coef=1.5)"
   ]
  },
  {
   "source": [
    "## TimeSeries Analysis  \n",
    "\n",
    "A large part of real-world datasets are temporal in nature. Due to its distinctive properties, there are numerous unsolved problems with wide range of applications. Data collected over regular intervals of time is called time-series (TS) data and each data point is equally spaced over time. TS prediction is the method of forecasting upcoming trends/patterns of the given historical dataset with temporal features. In order to forecast COVID-19 transmission, it would be effective if input data has temporal components and it is different from traditional regression approaches. A time series (TS) data can be break downed into trend, seasonality and error. A trend in TS can be observed when a certain pattern repeats on regular intervals of time due to external factors like lockdown of country, mandatory social distancing, quarantines etc. In many real-world scenarios, either of trend or seasonality are absent. After finding the nature of TS, various forecasting methods have to be applied on given TS\n",
    "\n",
    "Given the TS, it is broadly classified into 2 categories i.e. stationary and non-stationary. A series is said to be stationary, if it does not depend on the time components like trend, seasonality effects. Mean and variances of such series are constant with respect to time. Stationary TS is easier to analyze and results skilful forecasting. A TS data is said to non-stationary if it has trend, seasonality effects in it and changes with respect to time. Statistical properties like mean, variance, sand standard deviation also changes with respect to time."
   ],
   "cell_type": "markdown",
   "metadata": {}
  },
  {
   "source": [
    "#### ADF test\n",
    "\n",
    "In order to check the nature (stationarity and non-stationarity) of the given COVID-19 dataset, we have performed Augmented Dickey Fuller (ADF) test (Cheung & Lai, 1995) on the input data. ADF is the standard unit root test to find the impact of trends on the data and its results are interpreted by observing p-values of the test. If P is between 5-1%, it rejects the null hypothesis i.e. it does not have a unit root and it is called stationary series. If P is greater than 5% or 0.05 the input data has unit root so it is regarded as non-stationary series."
   ],
   "cell_type": "markdown",
   "metadata": {}
  },
  {
   "cell_type": "code",
   "execution_count": null,
   "metadata": {},
   "outputs": [],
   "source": []
  },
  {
   "source": [
    "# References\n",
    "\n",
    ". CDC COVID-19 Response Team, CDC COVID-19 Response Team, Bialek, S., Boundy, E., Bowen, V., Chow, N., Cohn, A., Dowling, N., Ellington, S., Gierke, R., Hall, A., MacNeil, J., Patel, P., Peacock, G., Pilishvili, T., Razzaghi, H., Reed, N., Ritchey, M., & Sauber-Schatz, E. (2020). Severe Outcomes Among Patients with Coronavirus Disease 2019 (COVID-19)—United States, *February 12–March 16, 2020. MMWR. Morbidity and Mortality Weekly Report, 69(12)*, 343‑346. \n",
    "\n",
    ". Cheung, Y.-W., & Lai, K. S. (1995). Lag Order and Critical Values of the Augmented Dickey–Fuller Test. *Journal of Business & Economic Statistics, 13(3)*, 277‑280.\n",
    "\n",
    ". Chimmula, V. K. R., & Zhang, L. (2020). Time series forecasting of COVID-19 transmission in Canada using LSTM networks. *Chaos, Solitons and Fractals: Nonlinear Science, and Nonequilibrium and Complex Phenomena, 135*, 1‑6.\n",
    "\n",
    ". World Health Organization. (2020). Coronavirus disease 2019 (COVID-19): situation report, *82*.\n",
    "\n",
    ". \n",
    "\n",
    ". Yansun Xu, Weaver, J. B., Healy, D. M., & Jian Lu. (1994). Wavelet transform domain filters : A spatially selective noise filtration technique. *IEEE Transactions on Image Processing, 3(6)*, 747‑758. \n",
    "\n"
   ],
   "cell_type": "markdown",
   "metadata": {}
  }
 ]
}